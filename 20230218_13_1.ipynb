{
  "nbformat": 4,
  "nbformat_minor": 0,
  "metadata": {
    "colab": {
      "provenance": [],
      "authorship_tag": "ABX9TyMRc0DILZJkuTVB48r/o7uY",
      "include_colab_link": true
    },
    "kernelspec": {
      "name": "python3",
      "display_name": "Python 3"
    },
    "language_info": {
      "name": "python"
    }
  },
  "cells": [
    {
      "cell_type": "markdown",
      "metadata": {
        "id": "view-in-github",
        "colab_type": "text"
      },
      "source": [
        "<a href=\"https://colab.research.google.com/github/X3RV/Test-20230212-1/blob/main/20230218_13_1.ipynb\" target=\"_parent\"><img src=\"https://colab.research.google.com/assets/colab-badge.svg\" alt=\"Open In Colab\"/></a>"
      ]
    },
    {
      "cell_type": "code",
      "execution_count": 3,
      "metadata": {
        "colab": {
          "base_uri": "https://localhost:8080/"
        },
        "id": "QIs_sp_12yYA",
        "outputId": "e4015bf1-8642-46ea-e518-8ad23df43ec9"
      },
      "outputs": [
        {
          "output_type": "stream",
          "name": "stdout",
          "text": [
            "Initializing\n"
          ]
        }
      ],
      "source": [
        "###############################################################################\n",
        "#   20230218 13-1.ipyynb\n",
        "#   Match Game\n",
        "#   Version 20230218 0.0.1\n",
        "#   By X3RV\n",
        "#   02/18/2023 \n",
        "#\n",
        "#   Status:  Incomplete\n",
        "#\n",
        "#   Purpose: Text based Match Game [possible letters Q R S T U]\n",
        "#   \n",
        "#   \n",
        "#   \n",
        "#\n",
        "#   Last Update:  02/18/2023  X3RV\n",
        "#\n",
        "################################################################################\n",
        "\n",
        "from random import choice\n",
        "\n",
        "##########################\n",
        "### Definition Section ###\n",
        "##########################\n",
        "\n",
        "def InitializeGrid(board):\n",
        "  #Initialize Grid by random value\n",
        "  for i in range(8):\n",
        "    for j in range(8):\n",
        "      board[i][j] = choice(['Q', 'R', 'S', 'T', 'U'])\n",
        "\n",
        "def Initialize(board):\n",
        "  # Initialize game \n",
        "\n",
        "  # Initialize grid\n",
        "\n",
        "  # Initialize score\n",
        "  global score\n",
        "  score = 0\n",
        "\n",
        "  # Initialize turn number\n",
        "  global turn\n",
        "  turn =1\n",
        "\n",
        "  print(\"Initializing\")\n",
        "  \n",
        "def ContinueGame(current_score, goal_score = 100):\n",
        "  # Return false if game should end, true if game is not over\n",
        "  # If score is greater than goal score, return false\n",
        "  # otherwise return true\n",
        "  if (current_score >= goal_score):\n",
        "    return False\n",
        "  else:\n",
        "    return True\n",
        "\n",
        "def DoRound():\n",
        "  # Perform one round of the game\n",
        "\n",
        "  # Get move from user\n",
        "\n",
        "  # Update game based on move\n",
        "\n",
        "  # Display the new grid state\n",
        "  print(\"Doing one round\")\n",
        "\n",
        "##########\n",
        "#  Main  #\n",
        "##########\n",
        "\n",
        "### Initialize game ###\n",
        "Initialize()\n",
        "score = 0\n",
        "turn = 0\n",
        "goalscore = 100\n",
        "\n",
        "# 8 x 8 board (8 element list of 8 lists with 8 elements)\n",
        "board = [[0, 0, 0, 0, 0, 0, 0, 0],\n",
        "         [0, 0, 0, 0, 0, 0, 0, 0],\n",
        "         [0, 0, 0, 0, 0, 0, 0, 0]\n",
        "         [0, 0, 0, 0, 0, 0, 0, 0]\n",
        "         [0, 0, 0, 0, 0, 0, 0, 0]\n",
        "         [0, 0, 0, 0, 0, 0, 0, 0]\n",
        "         [0, 0, 0, 0, 0, 0, 0, 0]\n",
        "         [0, 0, 0, 0, 0, 0, 0, 0]]\n",
        "\n",
        "\n",
        "# Loop while game not over:\n",
        "while ContinueGame(score, goalscore):\n",
        "  # Go through one round of the game\n",
        "  DoRound()\n",
        "\n"
      ]
    }
  ]
}