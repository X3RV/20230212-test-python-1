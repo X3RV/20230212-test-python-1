{
  "nbformat": 4,
  "nbformat_minor": 0,
  "metadata": {
    "colab": {
      "provenance": [],
      "authorship_tag": "ABX9TyPftw2/QqN9CBbVeLqTkXsR",
      "include_colab_link": true
    },
    "kernelspec": {
      "name": "python3",
      "display_name": "Python 3"
    },
    "language_info": {
      "name": "python"
    }
  },
  "cells": [
    {
      "cell_type": "markdown",
      "metadata": {
        "id": "view-in-github",
        "colab_type": "text"
      },
      "source": [
        "<a href=\"https://colab.research.google.com/github/X3RV/Test-20230212-1/blob/main/20230212_05_test_Collatz_1.ipynb\" target=\"_parent\"><img src=\"https://colab.research.google.com/assets/colab-badge.svg\" alt=\"Open In Colab\"/></a>"
      ]
    },
    {
      "cell_type": "code",
      "execution_count": null,
      "metadata": {
        "id": "mk4j-3jayLJg"
      },
      "outputs": [],
      "source": []
    },
    {
      "cell_type": "code",
      "execution_count": 33,
      "metadata": {
        "colab": {
          "base_uri": "https://localhost:8080/"
        },
        "id": "znVC2ez4OVD_",
        "outputId": "1559ff71-9a7c-4070-8284-69ced0c19766"
      },
      "outputs": [
        {
          "output_type": "stream",
          "name": "stdout",
          "text": [
            "Enter number to start with: 3\n",
            "7\n"
          ]
        }
      ],
      "source": [
        "###############################################################################\n",
        "#   20230212 05 test Collatz-1.ipyynb\n",
        "#   Collatz Conjecture Test Program\n",
        "#   Version 20230212 0.1.0\n",
        "#   By X3RV\n",
        "#   02/12/2023 \n",
        "#\n",
        "#   Status:  Complete\n",
        "#\n",
        "#   Purpose:  Collatz Conjecture program (3N +1)  \n",
        "#   For testing loops \n",
        "#\n",
        "#\n",
        "#   Last Update:  02/12/2023  X3RV\n",
        "#\n",
        "################################################################################\n",
        "# if the last number is even divide it by two\n",
        "# if the last number is odd multiply it by three and add 1\n",
        "# count the number of iterations \n",
        "# Stop when the number 1 is reached \n",
        "################################################################################\n",
        "\n",
        "\n",
        "# initialize numbers\n",
        "count = 0\n",
        "n = int(input(\"Enter number to start with: \"))\n",
        "\n",
        "# Stop when the number 1 is reached\n",
        "while n != 1:\n",
        "  #count the number of iterations\n",
        "  count = count + 1\n",
        "  if float(n / 2) > int (n/2):\n",
        "    # if the last number is odd multiply it by three and add 1\n",
        "    n = (n * 3) + 1\n",
        "  else:\n",
        "    # if the last number is even divide it by two\n",
        "    n = n / 2\n",
        "\n",
        "print(count)\n",
        "\n"
      ]
    }
  ]
}