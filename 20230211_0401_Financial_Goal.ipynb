{
  "nbformat": 4,
  "nbformat_minor": 0,
  "metadata": {
    "colab": {
      "provenance": [],
      "authorship_tag": "ABX9TyMFLi+m/O4FtCo4+FQw4QKa",
      "include_colab_link": true
    },
    "kernelspec": {
      "name": "python3",
      "display_name": "Python 3"
    },
    "language_info": {
      "name": "python"
    }
  },
  "cells": [
    {
      "cell_type": "markdown",
      "metadata": {
        "id": "view-in-github",
        "colab_type": "text"
      },
      "source": [
        "<a href=\"https://colab.research.google.com/github/X3RV/Test-20230212-1/blob/main/20230211_0401_Financial_Goal.ipynb\" target=\"_parent\"><img src=\"https://colab.research.google.com/assets/colab-badge.svg\" alt=\"Open In Colab\"/></a>"
      ]
    },
    {
      "cell_type": "code",
      "execution_count": 11,
      "metadata": {
        "colab": {
          "base_uri": "https://localhost:8080/"
        },
        "id": "znVC2ez4OVD_",
        "outputId": "3ece7b79-ef6a-4438-e659-1614d7fbb2a6"
      },
      "outputs": [
        {
          "output_type": "stream",
          "name": "stdout",
          "text": [
            "Enter how much you want to save:  100\n",
            "Enter how much you will save each period:  -5\n",
            "Savings must be positive.  Please enter a positive value:50\n",
            "You must make 2.0 more payments.\n"
          ]
        }
      ],
      "source": [
        "#\n",
        "#   20230211 0401 Financial Goal.ipyynb\n",
        "#   Financial Goal  \n",
        "#   Version 20230211 0.0.1\n",
        "#   By X3RV\n",
        "#   02/11/2023 \n",
        "#\n",
        "#   Status:  Incomplete\n",
        "#\n",
        "#   Purpose: \n",
        "#\n",
        "#        Update:  02/11/2023  X3RV\n",
        "#   Last Update:  02/11/2023  X3RV\n",
        "#\n",
        "#\n",
        "\n",
        "\n",
        "#  Get info from user\n",
        "balance = float(input(\"Enter how much you want to save:  \"))\n",
        "if (balance<0):\n",
        "  print(\"Looks like you already have saved enough!\")\n",
        "  balance = 0\n",
        "  payment = 1\n",
        "else:\n",
        "  payment = float(input(\"Enter how much you will save each period:  \"))\n",
        "  if (payment <= 0):\n",
        "  payment  = float (input (\"Savings must be positive.  Please enter a positive value:\"))\n",
        "\n",
        "\n",
        "#  Calculate number of payments that will be needed\n",
        "num_remaining_payments = balance / payment \n",
        "\n",
        "\n",
        "#  Present information to user\n",
        "print(\"You must make\", num_remaining_payments, \"more payments.\")\n"
      ]
    }
  ]
}